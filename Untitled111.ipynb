{
  "nbformat": 4,
  "nbformat_minor": 0,
  "metadata": {
    "colab": {
      "provenance": []
    },
    "kernelspec": {
      "name": "python3",
      "display_name": "Python 3"
    },
    "language_info": {
      "name": "python"
    }
  },
  "cells": [
    {
      "cell_type": "code",
      "source": [
        "import os\n",
        "import random\n",
        "from PIL import Image\n",
        "\n",
        "# Define NFT layers and assets\n",
        "layers = {\n",
        "    \"Background\": [\"blue.png\", \"red.png\", \"green.png\"],\n",
        "    \"Body\": [\"robot.png\", \"alien.png\", \"human.png\"],\n",
        "    \"Eyes\": [\"red_eyes.png\", \"blue_eyes.png\", \"green_eyes.png\"],\n",
        "    \"Mouth\": [\"smile.png\", \"neutral.png\", \"angry.png\"],\n",
        "    \"Hat\": [\"cap.png\", \"helmet.png\", \"none.png\"]\n",
        "}\n",
        "\n",
        "# NFT Output Directory\n",
        "output_folder = \"Generated_NFTs\"\n",
        "os.makedirs(output_folder, exist_ok=True)\n",
        "\n",
        "# Generate NFTs\n",
        "def create_nft(nft_id):\n",
        "    base_image = Image.new(\"RGBA\", (500, 500), (255, 255, 255, 0))\n",
        "\n",
        "    for layer, images in layers.items():\n",
        "        img_name = random.choice(images)\n",
        "        if img_name != \"none.png\":  # Ignore empty layers\n",
        "            img_path = f\"../C:/Users/Admin/OneDrive/Documents/ASSESTS/{layer}/{img_name}\"\n",
        "            try:\n",
        "                img = Image.open(img_path)\n",
        "                base_image.paste(img, (0, 0), img)\n",
        "            except FileNotFoundError:\n",
        "                print(f\"Warning: Image not found at {img_path}\")\n",
        "\n",
        "    nft_name = f\"{output_folder}/nft_{nft_id}.png\"\n",
        "    base_image.save(nft_name)\n",
        "    print(f\"Generated: {nft_name}\")\n",
        "\n",
        "# Generate 10 NFTs\n",
        "for i in range(10):\n",
        "    create_nft(i)\n",
        "\n",
        "print(\"✅ NFT Generation Completed!\")\n",
        "\n",
        "# This part was causing the error. It's removed as it is redundant.\n",
        "# nft_name = f\"{output_folder}/nft_{nft_id}.png\"\n",
        "# base_image.save(nft_name)\n",
        "# print(f\"Generated: {nft_name}\")\n",
        "\n",
        "# The NFT generation loop was duplicated, removed the second one.\n",
        "#for i in range(10):\n",
        "#    create_nft(i)\n",
        "\n",
        "#print(\"✅ NFT Generation Completed!\")"
      ],
      "metadata": {
        "colab": {
          "base_uri": "https://localhost:8080/"
        },
        "id": "PoYE7JXC3Umq",
        "outputId": "2a44b7d0-b782-446e-9033-fd0610867bef"
      },
      "execution_count": 5,
      "outputs": [
        {
          "output_type": "stream",
          "name": "stdout",
          "text": [
            "Warning: Image not found at ../C:/Users/Admin/OneDrive/Documents/ASSESTS/Background/blue.png\n",
            "Warning: Image not found at ../C:/Users/Admin/OneDrive/Documents/ASSESTS/Body/robot.png\n",
            "Warning: Image not found at ../C:/Users/Admin/OneDrive/Documents/ASSESTS/Eyes/blue_eyes.png\n",
            "Warning: Image not found at ../C:/Users/Admin/OneDrive/Documents/ASSESTS/Mouth/smile.png\n",
            "Warning: Image not found at ../C:/Users/Admin/OneDrive/Documents/ASSESTS/Hat/cap.png\n",
            "Generated: Generated_NFTs/nft_0.png\n",
            "Warning: Image not found at ../C:/Users/Admin/OneDrive/Documents/ASSESTS/Background/green.png\n",
            "Warning: Image not found at ../C:/Users/Admin/OneDrive/Documents/ASSESTS/Body/alien.png\n",
            "Warning: Image not found at ../C:/Users/Admin/OneDrive/Documents/ASSESTS/Eyes/blue_eyes.png\n",
            "Warning: Image not found at ../C:/Users/Admin/OneDrive/Documents/ASSESTS/Mouth/smile.png\n",
            "Warning: Image not found at ../C:/Users/Admin/OneDrive/Documents/ASSESTS/Hat/cap.png\n",
            "Generated: Generated_NFTs/nft_1.png\n",
            "Warning: Image not found at ../C:/Users/Admin/OneDrive/Documents/ASSESTS/Background/red.png\n",
            "Warning: Image not found at ../C:/Users/Admin/OneDrive/Documents/ASSESTS/Body/robot.png\n",
            "Warning: Image not found at ../C:/Users/Admin/OneDrive/Documents/ASSESTS/Eyes/blue_eyes.png\n",
            "Warning: Image not found at ../C:/Users/Admin/OneDrive/Documents/ASSESTS/Mouth/smile.png\n",
            "Warning: Image not found at ../C:/Users/Admin/OneDrive/Documents/ASSESTS/Hat/helmet.png\n",
            "Generated: Generated_NFTs/nft_2.png\n",
            "Warning: Image not found at ../C:/Users/Admin/OneDrive/Documents/ASSESTS/Background/blue.png\n",
            "Warning: Image not found at ../C:/Users/Admin/OneDrive/Documents/ASSESTS/Body/alien.png\n",
            "Warning: Image not found at ../C:/Users/Admin/OneDrive/Documents/ASSESTS/Eyes/blue_eyes.png\n",
            "Warning: Image not found at ../C:/Users/Admin/OneDrive/Documents/ASSESTS/Mouth/neutral.png\n",
            "Generated: Generated_NFTs/nft_3.png\n",
            "Warning: Image not found at ../C:/Users/Admin/OneDrive/Documents/ASSESTS/Background/red.png\n",
            "Warning: Image not found at ../C:/Users/Admin/OneDrive/Documents/ASSESTS/Body/robot.png\n",
            "Warning: Image not found at ../C:/Users/Admin/OneDrive/Documents/ASSESTS/Eyes/red_eyes.png\n",
            "Warning: Image not found at ../C:/Users/Admin/OneDrive/Documents/ASSESTS/Mouth/angry.png\n",
            "Warning: Image not found at ../C:/Users/Admin/OneDrive/Documents/ASSESTS/Hat/cap.png\n",
            "Generated: Generated_NFTs/nft_4.png\n",
            "Warning: Image not found at ../C:/Users/Admin/OneDrive/Documents/ASSESTS/Background/red.png\n",
            "Warning: Image not found at ../C:/Users/Admin/OneDrive/Documents/ASSESTS/Body/human.png\n",
            "Warning: Image not found at ../C:/Users/Admin/OneDrive/Documents/ASSESTS/Eyes/blue_eyes.png\n",
            "Warning: Image not found at ../C:/Users/Admin/OneDrive/Documents/ASSESTS/Mouth/angry.png\n",
            "Warning: Image not found at ../C:/Users/Admin/OneDrive/Documents/ASSESTS/Hat/helmet.png\n",
            "Generated: Generated_NFTs/nft_5.png\n",
            "Warning: Image not found at ../C:/Users/Admin/OneDrive/Documents/ASSESTS/Background/blue.png\n",
            "Warning: Image not found at ../C:/Users/Admin/OneDrive/Documents/ASSESTS/Body/alien.png\n",
            "Warning: Image not found at ../C:/Users/Admin/OneDrive/Documents/ASSESTS/Eyes/green_eyes.png\n",
            "Warning: Image not found at ../C:/Users/Admin/OneDrive/Documents/ASSESTS/Mouth/neutral.png\n",
            "Warning: Image not found at ../C:/Users/Admin/OneDrive/Documents/ASSESTS/Hat/helmet.png\n",
            "Generated: Generated_NFTs/nft_6.png\n",
            "Warning: Image not found at ../C:/Users/Admin/OneDrive/Documents/ASSESTS/Background/green.png\n",
            "Warning: Image not found at ../C:/Users/Admin/OneDrive/Documents/ASSESTS/Body/alien.png\n",
            "Warning: Image not found at ../C:/Users/Admin/OneDrive/Documents/ASSESTS/Eyes/green_eyes.png\n",
            "Warning: Image not found at ../C:/Users/Admin/OneDrive/Documents/ASSESTS/Mouth/neutral.png\n",
            "Warning: Image not found at ../C:/Users/Admin/OneDrive/Documents/ASSESTS/Hat/helmet.png\n",
            "Generated: Generated_NFTs/nft_7.png\n",
            "Warning: Image not found at ../C:/Users/Admin/OneDrive/Documents/ASSESTS/Background/red.png\n",
            "Warning: Image not found at ../C:/Users/Admin/OneDrive/Documents/ASSESTS/Body/alien.png\n",
            "Warning: Image not found at ../C:/Users/Admin/OneDrive/Documents/ASSESTS/Eyes/red_eyes.png\n",
            "Warning: Image not found at ../C:/Users/Admin/OneDrive/Documents/ASSESTS/Mouth/neutral.png\n",
            "Warning: Image not found at ../C:/Users/Admin/OneDrive/Documents/ASSESTS/Hat/helmet.png\n",
            "Generated: Generated_NFTs/nft_8.png\n",
            "Warning: Image not found at ../C:/Users/Admin/OneDrive/Documents/ASSESTS/Background/red.png\n",
            "Warning: Image not found at ../C:/Users/Admin/OneDrive/Documents/ASSESTS/Body/alien.png\n",
            "Warning: Image not found at ../C:/Users/Admin/OneDrive/Documents/ASSESTS/Eyes/blue_eyes.png\n",
            "Warning: Image not found at ../C:/Users/Admin/OneDrive/Documents/ASSESTS/Mouth/neutral.png\n",
            "Warning: Image not found at ../C:/Users/Admin/OneDrive/Documents/ASSESTS/Hat/helmet.png\n",
            "Generated: Generated_NFTs/nft_9.png\n",
            "✅ NFT Generation Completed!\n"
          ]
        }
      ]
    },
    {
      "cell_type": "code",
      "source": [
        "import os\n",
        "import random\n",
        "from PIL import Image\n",
        "from IPython.display import Image as IPImage  # Import for displaying images\n",
        "\n",
        "# Define NFT layers and assets\n",
        "layers = {\n",
        "    \"Background\": [\"blue.png\", \"red.png\", \"green.png\"],\n",
        "    \"Body\": [\"robot.png\", \"alien.png\", \"human.png\"],\n",
        "    \"Eyes\": [\"red_eyes.png\", \"blue_eyes.png\", \"green_eyes.png\"],\n",
        "    \"Mouth\": [\"smile.png\", \"neutral.png\", \"angry.png\"],\n",
        "    \"Hat\": [\"cap.png\", \"helmet.png\", \"none.png\"]\n",
        "}\n",
        "\n",
        "# NFT Output Directory\n",
        "output_folder = \"Generated_NFTs\"\n",
        "os.makedirs(output_folder, exist_ok=True)\n",
        "\n",
        "# Generate NFTs\n",
        "def create_nft(nft_id):\n",
        "    base_image = Image.new(\"RGBA\", (500, 500), (255, 255, 255, 0))\n",
        "\n",
        "    for layer, images in layers.items():\n",
        "        img_name = random.choice(images)\n",
        "        if img_name != \"none.png\":  # Ignore empty layers\n",
        "            img_path = f\"../C:/Users/Admin/OneDrive/Documents/ASSESTS/{layer}/{img_name}\"\n",
        "            try:\n",
        "                img = Image.open(img_path)\n",
        "                base_image.paste(img, (0, 0), img)\n",
        "            except FileNotFoundError:\n",
        "                print(f\"Warning: Image not found at {img_path}\")\n",
        "\n",
        "    nft_name = f\"{output_folder}/nft_{nft_id}.png\"\n",
        "    base_image.save(nft_name)\n",
        "    print(f\"Generated: {nft_name}\")\n",
        "\n",
        "    # Display the generated image\n",
        "    display(IPImage(filename=nft_name))\n",
        "\n",
        "# Generate 10 NFTs\n",
        "for i in range(10):\n",
        "    create_nft(i)\n",
        "\n",
        "print(\"✅ NFT Generation Completed!\")"
      ],
      "metadata": {
        "colab": {
          "base_uri": "https://localhost:8080/",
          "height": 1000
        },
        "id": "GsP8-dU-3jAn",
        "outputId": "c1ebed85-b36b-42da-fbef-ebcae59ab86b"
      },
      "execution_count": 6,
      "outputs": [
        {
          "output_type": "stream",
          "name": "stdout",
          "text": [
            "Warning: Image not found at ../C:/Users/Admin/OneDrive/Documents/ASSESTS/Background/red.png\n",
            "Warning: Image not found at ../C:/Users/Admin/OneDrive/Documents/ASSESTS/Body/alien.png\n",
            "Warning: Image not found at ../C:/Users/Admin/OneDrive/Documents/ASSESTS/Eyes/green_eyes.png\n",
            "Warning: Image not found at ../C:/Users/Admin/OneDrive/Documents/ASSESTS/Mouth/neutral.png\n",
            "Warning: Image not found at ../C:/Users/Admin/OneDrive/Documents/ASSESTS/Hat/helmet.png\n",
            "Generated: Generated_NFTs/nft_0.png\n"
          ]
        },
        {
          "output_type": "display_data",
          "data": {
            "image/png": "[encoded data removed]",
            "text/plain": [
              "<IPython.core.display.Image object>"
            ]
          },
          "metadata": {}
        },
        {
          "output_type": "stream",
          "name": "stdout",
          "text": [
            "Warning: Image not found at ../C:/Users/Admin/OneDrive/Documents/ASSESTS/Background/red.png\n",
            "Warning: Image not found at ../C:/Users/Admin/OneDrive/Documents/ASSESTS/Body/robot.png\n",
            "Warning: Image not found at ../C:/Users/Admin/OneDrive/Documents/ASSESTS/Eyes/red_eyes.png\n",
            "Warning: Image not found at ../C:/Users/Admin/OneDrive/Documents/ASSESTS/Mouth/neutral.png\n",
            "Generated: Generated_NFTs/nft_1.png\n"
          ]
        },
        {
          "output_type": "display_data",
          "data": {
            "image/png": "[encoded data removed]",
            "text/plain": [
              "<IPython.core.display.Image object>"
            ]
          },
          "metadata": {}
        },
        {
          "output_type": "stream",
          "name": "stdout",
          "text": [
            "Warning: Image not found at ../C:/Users/Admin/OneDrive/Documents/ASSESTS/Background/red.png\n",
            "Warning: Image not found at ../C:/Users/Admin/OneDrive/Documents/ASSESTS/Body/alien.png\n",
            "Warning: Image not found at ../C:/Users/Admin/OneDrive/Documents/ASSESTS/Eyes/green_eyes.png\n",
            "Warning: Image not found at ../C:/Users/Admin/OneDrive/Documents/ASSESTS/Mouth/angry.png\n",
            "Warning: Image not found at ../C:/Users/Admin/OneDrive/Documents/ASSESTS/Hat/helmet.png\n",
            "Generated: Generated_NFTs/nft_2.png\n"
          ]
        },
        {
          "output_type": "display_data",
          "data": {
            "image/png": "[encoded data removed]",
            "text/plain": [
              "<IPython.core.display.Image object>"
            ]
          },
          "metadata": {}
        },
        {
          "output_type": "stream",
          "name": "stdout",
          "text": [
            "Warning: Image not found at ../C:/Users/Admin/OneDrive/Documents/ASSESTS/Background/green.png\n",
            "Warning: Image not found at ../C:/Users/Admin/OneDrive/Documents/ASSESTS/Body/alien.png\n",
            "Warning: Image not found at ../C:/Users/Admin/OneDrive/Documents/ASSESTS/Eyes/red_eyes.png\n",
            "Warning: Image not found at ../C:/Users/Admin/OneDrive/Documents/ASSESTS/Mouth/angry.png\n",
            "Generated: Generated_NFTs/nft_3.png\n"
          ]
        },
        {
          "output_type": "display_data",
          "data": {
            "image/png": "[encoded data removed]",
            "text/plain": [
              "<IPython.core.display.Image object>"
            ]
          },
          "metadata": {}
        },
        {
          "output_type": "stream",
          "name": "stdout",
          "text": [
            "Warning: Image not found at ../C:/Users/Admin/OneDrive/Documents/ASSESTS/Background/blue.png\n",
            "Warning: Image not found at ../C:/Users/Admin/OneDrive/Documents/ASSESTS/Body/alien.png\n",
            "Warning: Image not found at ../C:/Users/Admin/OneDrive/Documents/ASSESTS/Eyes/green_eyes.png\n",
            "Warning: Image not found at ../C:/Users/Admin/OneDrive/Documents/ASSESTS/Mouth/angry.png\n",
            "Warning: Image not found at ../C:/Users/Admin/OneDrive/Documents/ASSESTS/Hat/cap.png\n",
            "Generated: Generated_NFTs/nft_4.png\n"
          ]
        },
        {
          "output_type": "display_data",
          "data": {
            "image/png": "[encoded data removed]",
            "text/plain": [
              "<IPython.core.display.Image object>"
            ]
          },
          "metadata": {}
        },
        {
          "output_type": "stream",
          "name": "stdout",
          "text": [
            "Warning: Image not found at ../C:/Users/Admin/OneDrive/Documents/ASSESTS/Background/green.png\n",
            "Warning: Image not found at ../C:/Users/Admin/OneDrive/Documents/ASSESTS/Body/human.png\n",
            "Warning: Image not found at ../C:/Users/Admin/OneDrive/Documents/ASSESTS/Eyes/green_eyes.png\n",
            "Warning: Image not found at ../C:/Users/Admin/OneDrive/Documents/ASSESTS/Mouth/smile.png\n",
            "Warning: Image not found at ../C:/Users/Admin/OneDrive/Documents/ASSESTS/Hat/helmet.png\n",
            "Generated: Generated_NFTs/nft_5.png\n"
          ]
        },
        {
          "output_type": "display_data",
          "data": {
            "image/png": "[encoded data removed]",
            "text/plain": [
              "<IPython.core.display.Image object>"
            ]
          },
          "metadata": {}
        },
        {
          "output_type": "stream",
          "name": "stdout",
          "text": [
            "Warning: Image not found at ../C:/Users/Admin/OneDrive/Documents/ASSESTS/Background/blue.png\n",
            "Warning: Image not found at ../C:/Users/Admin/OneDrive/Documents/ASSESTS/Body/robot.png\n",
            "Warning: Image not found at ../C:/Users/Admin/OneDrive/Documents/ASSESTS/Eyes/red_eyes.png\n",
            "Warning: Image not found at ../C:/Users/Admin/OneDrive/Documents/ASSESTS/Mouth/neutral.png\n",
            "Warning: Image not found at ../C:/Users/Admin/OneDrive/Documents/ASSESTS/Hat/helmet.png\n",
            "Generated: Generated_NFTs/nft_6.png\n"
          ]
        },
        {
          "output_type": "display_data",
          "data": {
            "image/png": "[encoded data removed]",
            "text/plain": [
              "<IPython.core.display.Image object>"
            ]
          },
          "metadata": {}
        },
        {
          "output_type": "stream",
          "name": "stdout",
          "text": [
            "Warning: Image not found at ../C:/Users/Admin/OneDrive/Documents/ASSESTS/Background/green.png\n",
            "Warning: Image not found at ../C:/Users/Admin/OneDrive/Documents/ASSESTS/Body/alien.png\n",
            "Warning: Image not found at ../C:/Users/Admin/OneDrive/Documents/ASSESTS/Eyes/red_eyes.png\n",
            "Warning: Image not found at ../C:/Users/Admin/OneDrive/Documents/ASSESTS/Mouth/smile.png\n",
            "Generated: Generated_NFTs/nft_7.png\n"
          ]
        },
        {
          "output_type": "display_data",
          "data": {
            "image/png": "[encoded data removed]",
            "text/plain": [
              "<IPython.core.display.Image object>"
            ]
          },
          "metadata": {}
        },
        {
          "output_type": "stream",
          "name": "stdout",
          "text": [
            "Warning: Image not found at ../C:/Users/Admin/OneDrive/Documents/ASSESTS/Background/blue.png\n",
            "Warning: Image not found at ../C:/Users/Admin/OneDrive/Documents/ASSESTS/Body/alien.png\n",
            "Warning: Image not found at ../C:/Users/Admin/OneDrive/Documents/ASSESTS/Eyes/red_eyes.png\n",
            "Warning: Image not found at ../C:/Users/Admin/OneDrive/Documents/ASSESTS/Mouth/angry.png\n",
            "Generated: Generated_NFTs/nft_8.png\n"
          ]
        },
        {
          "output_type": "display_data",
          "data": {
            "image/png": "[encoded data removed]",
            "text/plain": [
              "<IPython.core.display.Image object>"
            ]
          },
          "metadata": {}
        },
        {
          "output_type": "stream",
          "name": "stdout",
          "text": [
            "Warning: Image not found at ../C:/Users/Admin/OneDrive/Documents/ASSESTS/Background/red.png\n",
            "Warning: Image not found at ../C:/Users/Admin/OneDrive/Documents/ASSESTS/Body/robot.png\n",
            "Warning: Image not found at ../C:/Users/Admin/OneDrive/Documents/ASSESTS/Eyes/green_eyes.png\n",
            "Warning: Image not found at ../C:/Users/Admin/OneDrive/Documents/ASSESTS/Mouth/smile.png\n",
            "Warning: Image not found at ../C:/Users/Admin/OneDrive/Documents/ASSESTS/Hat/helmet.png\n",
            "Generated: Generated_NFTs/nft_9.png\n"
          ]
        },
        {
          "output_type": "display_data",
          "data": {
            "image/png": "[encoded data removed]",
            "text/plain": [
              "<IPython.core.display.Image object>"
            ]
          },
          "metadata": {}
        },
        {
          "output_type": "stream",
          "name": "stdout",
          "text": [
            "✅ NFT Generation Completed!\n"
          ]
        }
      ]
    },
    {
      "cell_type": "code",
      "source": [
        "!pip install web3\n",
        "\n",
        "from web3 import Web3\n",
        "\n",
        "# 1. Connect to the blockchain (replace with your provider)\n",
        "w3 = Web3(Web3.HTTPProvider(\"YOUR_PROVIDER_URL\"))\n",
        "\n",
        "# 2. Load your smart contract ABI and address\n",
        "contract_abi = [\n",
        "    # ... (Your contract's ABI)\n",
        "]\n",
        "contract_address = \"YOUR_CONTRACT_ADDRESS\"\n",
        "\n",
        "# 3. Instantiate the contract\n",
        "contract = w3.eth.contract(address=contract_address, abi=contract_abi)\n",
        "\n",
        "# 4. Mint an NFT (replace with your parameters)\n",
        "# Note: This assumes your contract has a 'mint' function\n",
        "txn_hash = contract.functions.mint(\"YOUR_NFT_METADATA_URI\").transact(\n",
        "    {\"from\": \"YOUR_WALLET_ADDRESS\"}\n",
        ")\n",
        "\n",
        "# 5. Wait for transaction confirmation\n",
        "w3.eth.waitForTransactionReceipt(txn_hash)\n",
        "\n",
        "print(f\"NFT minted! Transaction hash: {txn_hash.hex()}\")"
      ],
      "metadata": {
        "colab": {
          "base_uri": "https://localhost:8080/",
          "height": 1000
        },
        "id": "GcyBSa4T3r-2",
        "outputId": "a02d4539-9f61-4b73-8ee1-55c3385b35db"
      },
      "execution_count": 7,
      "outputs": [
        {
          "output_type": "stream",
          "name": "stdout",
          "text": [
            "Collecting web3\n",
            "  Downloading web3-7.8.0-py3-none-any.whl.metadata (5.5 kB)\n",
            "Collecting eth-abi>=5.0.1 (from web3)\n",
            "  Downloading eth_abi-5.2.0-py3-none-any.whl.metadata (3.8 kB)\n",
            "Collecting eth-account>=0.13.1 (from web3)\n",
            "  Downloading eth_account-0.13.5-py3-none-any.whl.metadata (3.8 kB)\n",
            "Collecting eth-hash>=0.5.1 (from eth-hash[pycryptodome]>=0.5.1->web3)\n",
            "  Downloading eth_hash-0.7.1-py3-none-any.whl.metadata (4.2 kB)\n",
            "Collecting eth-typing>=5.0.0 (from web3)\n",
            "  Downloading eth_typing-5.2.0-py3-none-any.whl.metadata (3.2 kB)\n",
            "Collecting eth-utils>=5.0.0 (from web3)\n",
            "  Downloading eth_utils-5.2.0-py3-none-any.whl.metadata (5.4 kB)\n",
            "Collecting hexbytes>=1.2.0 (from web3)\n",
            "  Downloading hexbytes-1.3.0-py3-none-any.whl.metadata (3.3 kB)\n",
            "Requirement already satisfied: aiohttp>=3.7.4.post0 in /usr/local/lib/python3.11/dist-packages (from web3) (3.11.12)\n",
            "Requirement already satisfied: pydantic>=2.4.0 in /usr/local/lib/python3.11/dist-packages (from web3) (2.10.6)\n",
            "Requirement already satisfied: requests>=2.23.0 in /usr/local/lib/python3.11/dist-packages (from web3) (2.32.3)\n",
            "Requirement already satisfied: typing-extensions>=4.0.1 in /usr/local/lib/python3.11/dist-packages (from web3) (4.12.2)\n",
            "Collecting types-requests>=2.0.0 (from web3)\n",
            "  Downloading types_requests-2.32.0.20241016-py3-none-any.whl.metadata (1.9 kB)\n",
            "Collecting websockets<14.0.0,>=10.0.0 (from web3)\n",
            "  Downloading websockets-13.1-cp311-cp311-manylinux_2_5_x86_64.manylinux1_x86_64.manylinux_2_17_x86_64.manylinux2014_x86_64.whl.metadata (6.8 kB)\n",
            "Collecting pyunormalize>=15.0.0 (from web3)\n",
            "  Downloading pyunormalize-16.0.0-py3-none-any.whl.metadata (4.0 kB)\n",
            "Requirement already satisfied: aiohappyeyeballs>=2.3.0 in /usr/local/lib/python3.11/dist-packages (from aiohttp>=3.7.4.post0->web3) (2.4.6)\n",
            "Requirement already satisfied: aiosignal>=1.1.2 in /usr/local/lib/python3.11/dist-packages (from aiohttp>=3.7.4.post0->web3) (1.3.2)\n",
            "Requirement already satisfied: attrs>=17.3.0 in /usr/local/lib/python3.11/dist-packages (from aiohttp>=3.7.4.post0->web3) (25.1.0)\n",
            "Requirement already satisfied: frozenlist>=1.1.1 in /usr/local/lib/python3.11/dist-packages (from aiohttp>=3.7.4.post0->web3) (1.5.0)\n",
            "Requirement already satisfied: multidict<7.0,>=4.5 in /usr/local/lib/python3.11/dist-packages (from aiohttp>=3.7.4.post0->web3) (6.1.0)\n",
            "Requirement already satisfied: propcache>=0.2.0 in /usr/local/lib/python3.11/dist-packages (from aiohttp>=3.7.4.post0->web3) (0.2.1)\n",
            "Requirement already satisfied: yarl<2.0,>=1.17.0 in /usr/local/lib/python3.11/dist-packages (from aiohttp>=3.7.4.post0->web3) (1.18.3)\n",
            "Collecting parsimonious<0.11.0,>=0.10.0 (from eth-abi>=5.0.1->web3)\n",
            "  Downloading parsimonious-0.10.0-py3-none-any.whl.metadata (25 kB)\n",
            "Collecting bitarray>=2.4.0 (from eth-account>=0.13.1->web3)\n",
            "  Downloading bitarray-3.1.0-cp311-cp311-manylinux_2_17_x86_64.manylinux2014_x86_64.whl.metadata (32 kB)\n",
            "Collecting eth-keyfile<0.9.0,>=0.7.0 (from eth-account>=0.13.1->web3)\n",
            "  Downloading eth_keyfile-0.8.1-py3-none-any.whl.metadata (8.5 kB)\n",
            "Collecting eth-keys>=0.4.0 (from eth-account>=0.13.1->web3)\n",
            "  Downloading eth_keys-0.6.1-py3-none-any.whl.metadata (13 kB)\n",
            "Collecting eth-rlp>=2.1.0 (from eth-account>=0.13.1->web3)\n",
            "  Downloading eth_rlp-2.2.0-py3-none-any.whl.metadata (3.3 kB)\n",
            "Collecting rlp>=1.0.0 (from eth-account>=0.13.1->web3)\n",
            "  Downloading rlp-4.1.0-py3-none-any.whl.metadata (3.2 kB)\n",
            "Collecting ckzg>=2.0.0 (from eth-account>=0.13.1->web3)\n",
            "  Downloading ckzg-2.0.1-cp311-cp311-manylinux_2_17_x86_64.manylinux2014_x86_64.whl.metadata (683 bytes)\n",
            "Collecting pycryptodome<4,>=3.6.6 (from eth-hash[pycryptodome]>=0.5.1->web3)\n",
            "  Downloading pycryptodome-3.21.0-cp36-abi3-manylinux_2_17_x86_64.manylinux2014_x86_64.whl.metadata (3.4 kB)\n",
            "Collecting cytoolz>=0.10.1 (from eth-utils>=5.0.0->web3)\n",
            "  Downloading cytoolz-1.0.1-cp311-cp311-manylinux_2_17_x86_64.manylinux2014_x86_64.whl.metadata (4.6 kB)\n",
            "Requirement already satisfied: annotated-types>=0.6.0 in /usr/local/lib/python3.11/dist-packages (from pydantic>=2.4.0->web3) (0.7.0)\n",
            "Requirement already satisfied: pydantic-core==2.27.2 in /usr/local/lib/python3.11/dist-packages (from pydantic>=2.4.0->web3) (2.27.2)\n",
            "Requirement already satisfied: charset-normalizer<4,>=2 in /usr/local/lib/python3.11/dist-packages (from requests>=2.23.0->web3) (3.4.1)\n",
            "Requirement already satisfied: idna<4,>=2.5 in /usr/local/lib/python3.11/dist-packages (from requests>=2.23.0->web3) (3.10)\n",
            "Requirement already satisfied: urllib3<3,>=1.21.1 in /usr/local/lib/python3.11/dist-packages (from requests>=2.23.0->web3) (2.3.0)\n",
            "Requirement already satisfied: certifi>=2017.4.17 in /usr/local/lib/python3.11/dist-packages (from requests>=2.23.0->web3) (2025.1.31)\n",
            "Requirement already satisfied: toolz>=0.8.0 in /usr/local/lib/python3.11/dist-packages (from cytoolz>=0.10.1->eth-utils>=5.0.0->web3) (0.12.1)\n",
            "Requirement already satisfied: regex>=2022.3.15 in /usr/local/lib/python3.11/dist-packages (from parsimonious<0.11.0,>=0.10.0->eth-abi>=5.0.1->web3) (2024.11.6)\n",
            "Downloading web3-7.8.0-py3-none-any.whl (1.4 MB)\n",
            "\u001b[2K   \u001b[90m━━━━━━━━━━━━━━━━━━━━━━━━━━━━━━━━━━━━━━━━\u001b[0m \u001b[32m1.4/1.4 MB\u001b[0m \u001b[31m56.2 MB/s\u001b[0m eta \u001b[36m0:00:00\u001b[0m\n",
            "\u001b[?25hDownloading eth_abi-5.2.0-py3-none-any.whl (28 kB)\n",
            "Downloading eth_account-0.13.5-py3-none-any.whl (580 kB)\n",
            "\u001b[2K   \u001b[90m━━━━━━━━━━━━━━━━━━━━━━━━━━━━━━━━━━━━━━━━\u001b[0m \u001b[32m580.7/580.7 kB\u001b[0m \u001b[31m39.6 MB/s\u001b[0m eta \u001b[36m0:00:00\u001b[0m\n",
            "\u001b[?25hDownloading eth_hash-0.7.1-py3-none-any.whl (8.0 kB)\n",
            "Downloading eth_typing-5.2.0-py3-none-any.whl (19 kB)\n",
            "Downloading eth_utils-5.2.0-py3-none-any.whl (100 kB)\n",
            "\u001b[2K   \u001b[90m━━━━━━━━━━━━━━━━━━━━━━━━━━━━━━━━━━━━━━━━\u001b[0m \u001b[32m100.5/100.5 kB\u001b[0m \u001b[31m9.8 MB/s\u001b[0m eta \u001b[36m0:00:00\u001b[0m\n",
            "\u001b[?25hDownloading hexbytes-1.3.0-py3-none-any.whl (4.9 kB)\n",
            "Downloading pyunormalize-16.0.0-py3-none-any.whl (49 kB)\n",
            "\u001b[2K   \u001b[90m━━━━━━━━━━━━━━━━━━━━━━━━━━━━━━━━━━━━━━━━\u001b[0m \u001b[32m49.2/49.2 kB\u001b[0m \u001b[31m4.1 MB/s\u001b[0m eta \u001b[36m0:00:00\u001b[0m\n",
            "\u001b[?25hDownloading types_requests-2.32.0.20241016-py3-none-any.whl (15 kB)\n",
            "Downloading websockets-13.1-cp311-cp311-manylinux_2_5_x86_64.manylinux1_x86_64.manylinux_2_17_x86_64.manylinux2014_x86_64.whl (164 kB)\n",
            "\u001b[2K   \u001b[90m━━━━━━━━━━━━━━━━━━━━━━━━━━━━━━━━━━━━━━━━\u001b[0m \u001b[32m164.8/164.8 kB\u001b[0m \u001b[31m13.6 MB/s\u001b[0m eta \u001b[36m0:00:00\u001b[0m\n",
            "\u001b[?25hDownloading bitarray-3.1.0-cp311-cp311-manylinux_2_17_x86_64.manylinux2014_x86_64.whl (292 kB)\n",
            "\u001b[2K   \u001b[90m━━━━━━━━━━━━━━━━━━━━━━━━━━━━━━━━━━━━━━━━\u001b[0m \u001b[32m292.5/292.5 kB\u001b[0m \u001b[31m23.7 MB/s\u001b[0m eta \u001b[36m0:00:00\u001b[0m\n",
            "\u001b[?25hDownloading ckzg-2.0.1-cp311-cp311-manylinux_2_17_x86_64.manylinux2014_x86_64.whl (169 kB)\n",
            "\u001b[2K   \u001b[90m━━━━━━━━━━━━━━━━━━━━━━━━━━━━━━━━━━━━━━━━\u001b[0m \u001b[32m169.6/169.6 kB\u001b[0m \u001b[31m15.1 MB/s\u001b[0m eta \u001b[36m0:00:00\u001b[0m\n",
            "\u001b[?25hDownloading cytoolz-1.0.1-cp311-cp311-manylinux_2_17_x86_64.manylinux2014_x86_64.whl (2.1 MB)\n",
            "\u001b[2K   \u001b[90m━━━━━━━━━━━━━━━━━━━━━━━━━━━━━━━━━━━━━━━━\u001b[0m \u001b[32m2.1/2.1 MB\u001b[0m \u001b[31m72.7 MB/s\u001b[0m eta \u001b[36m0:00:00\u001b[0m\n",
            "\u001b[?25hDownloading eth_keyfile-0.8.1-py3-none-any.whl (7.5 kB)\n",
            "Downloading eth_keys-0.6.1-py3-none-any.whl (21 kB)\n",
            "Downloading eth_rlp-2.2.0-py3-none-any.whl (4.4 kB)\n",
            "Downloading parsimonious-0.10.0-py3-none-any.whl (48 kB)\n",
            "\u001b[2K   \u001b[90m━━━━━━━━━━━━━━━━━━━━━━━━━━━━━━━━━━━━━━━━\u001b[0m \u001b[32m48.4/48.4 kB\u001b[0m \u001b[31m3.7 MB/s\u001b[0m eta \u001b[36m0:00:00\u001b[0m\n",
            "\u001b[?25hDownloading pycryptodome-3.21.0-cp36-abi3-manylinux_2_17_x86_64.manylinux2014_x86_64.whl (2.3 MB)\n",
            "\u001b[2K   \u001b[90m━━━━━━━━━━━━━━━━━━━━━━━━━━━━━━━━━━━━━━━━\u001b[0m \u001b[32m2.3/2.3 MB\u001b[0m \u001b[31m68.7 MB/s\u001b[0m eta \u001b[36m0:00:00\u001b[0m\n",
            "\u001b[?25hDownloading rlp-4.1.0-py3-none-any.whl (19 kB)\n",
            "Installing collected packages: ckzg, bitarray, websockets, types-requests, pyunormalize, pycryptodome, parsimonious, hexbytes, eth-typing, eth-hash, cytoolz, eth-utils, rlp, eth-keys, eth-abi, eth-rlp, eth-keyfile, eth-account, web3\n",
            "  Attempting uninstall: websockets\n",
            "    Found existing installation: websockets 14.2\n",
            "    Uninstalling websockets-14.2:\n",
            "      Successfully uninstalled websockets-14.2\n",
            "Successfully installed bitarray-3.1.0 ckzg-2.0.1 cytoolz-1.0.1 eth-abi-5.2.0 eth-account-0.13.5 eth-hash-0.7.1 eth-keyfile-0.8.1 eth-keys-0.6.1 eth-rlp-2.2.0 eth-typing-5.2.0 eth-utils-5.2.0 hexbytes-1.3.0 parsimonious-0.10.0 pycryptodome-3.21.0 pyunormalize-16.0.0 rlp-4.1.0 types-requests-2.32.0.20241016 web3-7.8.0 websockets-13.1\n"
          ]
        },
        {
          "output_type": "error",
          "ename": "InvalidAddress",
          "evalue": "ENS name: 'YOUR_CONTRACT_ADDRESS' is invalid.",
          "traceback": [
            "\u001b[0;31m---------------------------------------------------------------------------\u001b[0m",
            "\u001b[0;31mInvalidAddress\u001b[0m                            Traceback (most recent call last)",
            "\u001b[0;32m<ipython-input-7-07238ef4bc58>\u001b[0m in \u001b[0;36m<cell line: 0>\u001b[0;34m()\u001b[0m\n\u001b[1;32m     13\u001b[0m \u001b[0;34m\u001b[0m\u001b[0m\n\u001b[1;32m     14\u001b[0m \u001b[0;31m# 3. Instantiate the contract\u001b[0m\u001b[0;34m\u001b[0m\u001b[0;34m\u001b[0m\u001b[0m\n\u001b[0;32m---> 15\u001b[0;31m \u001b[0mcontract\u001b[0m \u001b[0;34m=\u001b[0m \u001b[0mw3\u001b[0m\u001b[0;34m.\u001b[0m\u001b[0meth\u001b[0m\u001b[0;34m.\u001b[0m\u001b[0mcontract\u001b[0m\u001b[0;34m(\u001b[0m\u001b[0maddress\u001b[0m\u001b[0;34m=\u001b[0m\u001b[0mcontract_address\u001b[0m\u001b[0;34m,\u001b[0m \u001b[0mabi\u001b[0m\u001b[0;34m=\u001b[0m\u001b[0mcontract_abi\u001b[0m\u001b[0;34m)\u001b[0m\u001b[0;34m\u001b[0m\u001b[0;34m\u001b[0m\u001b[0m\n\u001b[0m\u001b[1;32m     16\u001b[0m \u001b[0;34m\u001b[0m\u001b[0m\n\u001b[1;32m     17\u001b[0m \u001b[0;31m# 4. Mint an NFT (replace with your parameters)\u001b[0m\u001b[0;34m\u001b[0m\u001b[0;34m\u001b[0m\u001b[0m\n",
            "\u001b[0;32m/usr/local/lib/python3.11/dist-packages/web3/eth/eth.py\u001b[0m in \u001b[0;36mcontract\u001b[0;34m(self, address, **kwargs)\u001b[0m\n\u001b[1;32m    662\u001b[0m \u001b[0;34m\u001b[0m\u001b[0m\n\u001b[1;32m    663\u001b[0m         \u001b[0;32mif\u001b[0m \u001b[0maddress\u001b[0m\u001b[0;34m:\u001b[0m\u001b[0;34m\u001b[0m\u001b[0;34m\u001b[0m\u001b[0m\n\u001b[0;32m--> 664\u001b[0;31m             \u001b[0;32mreturn\u001b[0m \u001b[0mContractFactory\u001b[0m\u001b[0;34m(\u001b[0m\u001b[0maddress\u001b[0m\u001b[0;34m)\u001b[0m\u001b[0;34m\u001b[0m\u001b[0;34m\u001b[0m\u001b[0m\n\u001b[0m\u001b[1;32m    665\u001b[0m         \u001b[0;32melse\u001b[0m\u001b[0;34m:\u001b[0m\u001b[0;34m\u001b[0m\u001b[0;34m\u001b[0m\u001b[0m\n\u001b[1;32m    666\u001b[0m             \u001b[0;32mreturn\u001b[0m \u001b[0mContractFactory\u001b[0m\u001b[0;34m\u001b[0m\u001b[0;34m\u001b[0m\u001b[0m\n",
            "\u001b[0;32m/usr/local/lib/python3.11/dist-packages/web3/contract/contract.py\u001b[0m in \u001b[0;36m__init__\u001b[0;34m(self, address)\u001b[0m\n\u001b[1;32m    427\u001b[0m         \u001b[0;32mif\u001b[0m \u001b[0maddress\u001b[0m\u001b[0;34m:\u001b[0m\u001b[0;34m\u001b[0m\u001b[0;34m\u001b[0m\u001b[0m\n\u001b[1;32m    428\u001b[0m             \u001b[0;31m# invoke ``w3._ens`` over ``w3.ens`` to avoid premature instantiation\u001b[0m\u001b[0;34m\u001b[0m\u001b[0;34m\u001b[0m\u001b[0m\n\u001b[0;32m--> 429\u001b[0;31m             \u001b[0mself\u001b[0m\u001b[0;34m.\u001b[0m\u001b[0maddress\u001b[0m \u001b[0;34m=\u001b[0m \u001b[0mnormalize_address\u001b[0m\u001b[0;34m(\u001b[0m\u001b[0mcast\u001b[0m\u001b[0;34m(\u001b[0m\u001b[0;34m\"ENS\"\u001b[0m\u001b[0;34m,\u001b[0m \u001b[0m_w3\u001b[0m\u001b[0;34m.\u001b[0m\u001b[0m_ens\u001b[0m\u001b[0;34m)\u001b[0m\u001b[0;34m,\u001b[0m \u001b[0maddress\u001b[0m\u001b[0;34m)\u001b[0m\u001b[0;34m\u001b[0m\u001b[0;34m\u001b[0m\u001b[0m\n\u001b[0m\u001b[1;32m    430\u001b[0m \u001b[0;34m\u001b[0m\u001b[0m\n\u001b[1;32m    431\u001b[0m         \u001b[0;32mif\u001b[0m \u001b[0;32mnot\u001b[0m \u001b[0mself\u001b[0m\u001b[0;34m.\u001b[0m\u001b[0maddress\u001b[0m\u001b[0;34m:\u001b[0m\u001b[0;34m\u001b[0m\u001b[0;34m\u001b[0m\u001b[0m\n",
            "\u001b[0;32m/usr/local/lib/python3.11/dist-packages/web3/_utils/normalizers.py\u001b[0m in \u001b[0;36mnormalize_address\u001b[0;34m(ens, address)\u001b[0m\n\u001b[1;32m    262\u001b[0m             \u001b[0mvalidate_name_has_address\u001b[0m\u001b[0;34m(\u001b[0m\u001b[0mens\u001b[0m\u001b[0;34m,\u001b[0m \u001b[0maddress\u001b[0m\u001b[0;34m)\u001b[0m\u001b[0;34m\u001b[0m\u001b[0;34m\u001b[0m\u001b[0m\n\u001b[1;32m    263\u001b[0m         \u001b[0;32melse\u001b[0m\u001b[0;34m:\u001b[0m\u001b[0;34m\u001b[0m\u001b[0;34m\u001b[0m\u001b[0m\n\u001b[0;32m--> 264\u001b[0;31m             \u001b[0mvalidate_address\u001b[0m\u001b[0;34m(\u001b[0m\u001b[0maddress\u001b[0m\u001b[0;34m)\u001b[0m\u001b[0;34m\u001b[0m\u001b[0;34m\u001b[0m\u001b[0m\n\u001b[0m\u001b[1;32m    265\u001b[0m     \u001b[0;32mreturn\u001b[0m \u001b[0maddress\u001b[0m\u001b[0;34m\u001b[0m\u001b[0;34m\u001b[0m\u001b[0m\n\u001b[1;32m    266\u001b[0m \u001b[0;34m\u001b[0m\u001b[0m\n",
            "\u001b[0;32m/usr/local/lib/python3.11/dist-packages/web3/_utils/validation.py\u001b[0m in \u001b[0;36mvalidate_address\u001b[0;34m(value)\u001b[0m\n\u001b[1;32m    167\u001b[0m     \u001b[0;32mif\u001b[0m \u001b[0mis_not_address_string\u001b[0m\u001b[0;34m(\u001b[0m\u001b[0mvalue\u001b[0m\u001b[0;34m)\u001b[0m\u001b[0;34m:\u001b[0m\u001b[0;34m\u001b[0m\u001b[0;34m\u001b[0m\u001b[0m\n\u001b[1;32m    168\u001b[0m         \u001b[0;32mif\u001b[0m \u001b[0;32mnot\u001b[0m \u001b[0mis_valid_ens_name\u001b[0m\u001b[0;34m(\u001b[0m\u001b[0mvalue\u001b[0m\u001b[0;34m)\u001b[0m\u001b[0;34m:\u001b[0m\u001b[0;34m\u001b[0m\u001b[0;34m\u001b[0m\u001b[0m\n\u001b[0;32m--> 169\u001b[0;31m             \u001b[0;32mraise\u001b[0m \u001b[0mInvalidAddress\u001b[0m\u001b[0;34m(\u001b[0m\u001b[0;34mf\"ENS name: '{value}' is invalid.\"\u001b[0m\u001b[0;34m)\u001b[0m\u001b[0;34m\u001b[0m\u001b[0;34m\u001b[0m\u001b[0m\n\u001b[0m\u001b[1;32m    170\u001b[0m         \u001b[0;32mreturn\u001b[0m\u001b[0;34m\u001b[0m\u001b[0;34m\u001b[0m\u001b[0m\n\u001b[1;32m    171\u001b[0m     \u001b[0;32mif\u001b[0m \u001b[0mis_bytes\u001b[0m\u001b[0;34m(\u001b[0m\u001b[0mvalue\u001b[0m\u001b[0;34m)\u001b[0m\u001b[0;34m:\u001b[0m\u001b[0;34m\u001b[0m\u001b[0;34m\u001b[0m\u001b[0m\n",
            "\u001b[0;31mInvalidAddress\u001b[0m: ENS name: 'YOUR_CONTRACT_ADDRESS' is invalid."
          ]
        }
      ]
    }
  ]
}